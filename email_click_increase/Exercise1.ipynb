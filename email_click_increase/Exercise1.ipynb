{
 "cells": [
  {
   "cell_type": "code",
   "execution_count": 23,
   "id": "44036d41",
   "metadata": {},
   "outputs": [],
   "source": [
    "import pandas as pd\n",
    "#read from google drive\n",
    "data = pd.read_csv('https://drive.google.com/uc?export=download&id=1H_-mi6NzeZt1PhcanHofcf3H6UiItmxO')"
   ]
  },
  {
   "cell_type": "code",
   "execution_count": 24,
   "id": "c47c332a",
   "metadata": {},
   "outputs": [
    {
     "data": {
      "text/html": [
       "<div>\n",
       "<style scoped>\n",
       "    .dataframe tbody tr th:only-of-type {\n",
       "        vertical-align: middle;\n",
       "    }\n",
       "\n",
       "    .dataframe tbody tr th {\n",
       "        vertical-align: top;\n",
       "    }\n",
       "\n",
       "    .dataframe thead th {\n",
       "        text-align: right;\n",
       "    }\n",
       "</style>\n",
       "<table border=\"1\" class=\"dataframe\">\n",
       "  <thead>\n",
       "    <tr style=\"text-align: right;\">\n",
       "      <th></th>\n",
       "      <th>user_id</th>\n",
       "      <th>source</th>\n",
       "      <th>device</th>\n",
       "      <th>operative_system</th>\n",
       "      <th>lat</th>\n",
       "      <th>long</th>\n",
       "      <th>weekday</th>\n",
       "      <th>yearweek</th>\n",
       "      <th>converted</th>\n",
       "    </tr>\n",
       "  </thead>\n",
       "  <tbody>\n",
       "    <tr>\n",
       "      <th>0</th>\n",
       "      <td>3</td>\n",
       "      <td>seo_facebook</td>\n",
       "      <td>web</td>\n",
       "      <td>mac</td>\n",
       "      <td>38.89</td>\n",
       "      <td>-94.81</td>\n",
       "      <td>Friday</td>\n",
       "      <td>16</td>\n",
       "      <td>0</td>\n",
       "    </tr>\n",
       "    <tr>\n",
       "      <th>1</th>\n",
       "      <td>9</td>\n",
       "      <td>seo-google</td>\n",
       "      <td>mobile</td>\n",
       "      <td>android</td>\n",
       "      <td>41.68</td>\n",
       "      <td>-72.94</td>\n",
       "      <td>Friday</td>\n",
       "      <td>18</td>\n",
       "      <td>0</td>\n",
       "    </tr>\n",
       "    <tr>\n",
       "      <th>2</th>\n",
       "      <td>14</td>\n",
       "      <td>friend_referral</td>\n",
       "      <td>mobile</td>\n",
       "      <td>iOS</td>\n",
       "      <td>39.74</td>\n",
       "      <td>-75.53</td>\n",
       "      <td>Saturday</td>\n",
       "      <td>13</td>\n",
       "      <td>0</td>\n",
       "    </tr>\n",
       "    <tr>\n",
       "      <th>3</th>\n",
       "      <td>16</td>\n",
       "      <td>ads-google</td>\n",
       "      <td>mobile</td>\n",
       "      <td>android</td>\n",
       "      <td>37.99</td>\n",
       "      <td>-121.80</td>\n",
       "      <td>Friday</td>\n",
       "      <td>21</td>\n",
       "      <td>0</td>\n",
       "    </tr>\n",
       "    <tr>\n",
       "      <th>4</th>\n",
       "      <td>19</td>\n",
       "      <td>ads-google</td>\n",
       "      <td>mobile</td>\n",
       "      <td>android</td>\n",
       "      <td>41.08</td>\n",
       "      <td>-81.52</td>\n",
       "      <td>Wednesday</td>\n",
       "      <td>14</td>\n",
       "      <td>0</td>\n",
       "    </tr>\n",
       "  </tbody>\n",
       "</table>\n",
       "</div>"
      ],
      "text/plain": [
       "   user_id           source  device operative_system    lat    long  \\\n",
       "0        3     seo_facebook     web              mac  38.89  -94.81   \n",
       "1        9       seo-google  mobile          android  41.68  -72.94   \n",
       "2       14  friend_referral  mobile              iOS  39.74  -75.53   \n",
       "3       16       ads-google  mobile          android  37.99 -121.80   \n",
       "4       19       ads-google  mobile          android  41.08  -81.52   \n",
       "\n",
       "     weekday  yearweek  converted  \n",
       "0     Friday        16          0  \n",
       "1     Friday        18          0  \n",
       "2   Saturday        13          0  \n",
       "3     Friday        21          0  \n",
       "4  Wednesday        14          0  "
      ]
     },
     "execution_count": 24,
     "metadata": {},
     "output_type": "execute_result"
    }
   ],
   "source": [
    "data.head()"
   ]
  },
  {
   "cell_type": "code",
   "execution_count": 26,
   "id": "1e0f194f",
   "metadata": {},
   "outputs": [
    {
     "data": {
      "text/plain": [
       "mobile    162321\n",
       "web       113295\n",
       "Name: device, dtype: int64"
      ]
     },
     "execution_count": 26,
     "metadata": {},
     "output_type": "execute_result"
    }
   ],
   "source": [
    "data.device.value_counts()"
   ]
  },
  {
   "cell_type": "code",
   "execution_count": 27,
   "id": "f9b38c64",
   "metadata": {},
   "outputs": [
    {
     "data": {
      "text/plain": [
       "windows    87721\n",
       "iOS        82982\n",
       "android    65305\n",
       "mac        21831\n",
       "other      14143\n",
       "linux       3634\n",
       "Name: operative_system, dtype: int64"
      ]
     },
     "execution_count": 27,
     "metadata": {},
     "output_type": "execute_result"
    }
   ],
   "source": [
    "data.operative_system.value_counts()"
   ]
  },
  {
   "cell_type": "code",
   "execution_count": 28,
   "id": "e26bda1e",
   "metadata": {},
   "outputs": [
    {
     "data": {
      "text/plain": [
       "Friday       80047\n",
       "Saturday     64632\n",
       "Sunday       48512\n",
       "Thursday     32187\n",
       "Tuesday      17104\n",
       "Monday       16722\n",
       "Wednesday    16412\n",
       "Name: weekday, dtype: int64"
      ]
     },
     "execution_count": 28,
     "metadata": {},
     "output_type": "execute_result"
    }
   ],
   "source": [
    "data.weekday.value_counts()"
   ]
  },
  {
   "cell_type": "code",
   "execution_count": 25,
   "id": "a1cbeff3",
   "metadata": {},
   "outputs": [
    {
     "data": {
      "text/plain": [
       "direct_traffic     52594\n",
       "ads-google         51576\n",
       "ads_facebook       46365\n",
       "ads_other          26084\n",
       "seo-google         20157\n",
       "ads-bing           19887\n",
       "seo_facebook       18473\n",
       "friend_referral    18011\n",
       "seo-other           8058\n",
       "ads-yahoo           6576\n",
       "seo-yahoo           5961\n",
       "seo-bing            1874\n",
       "Name: source, dtype: int64"
      ]
     },
     "execution_count": 25,
     "metadata": {},
     "output_type": "execute_result"
    }
   ],
   "source": [
    "data.source.value_counts()"
   ]
  },
  {
   "cell_type": "code",
   "execution_count": 29,
   "id": "435b58a8",
   "metadata": {},
   "outputs": [
    {
     "data": {
      "text/plain": [
       "15    21779\n",
       "10    21489\n",
       "19    21463\n",
       "12    21332\n",
       "13    21247\n",
       "18    21215\n",
       "22    21134\n",
       "11    21081\n",
       "16    21037\n",
       "17    21034\n",
       "20    21021\n",
       "14    20895\n",
       "21    20889\n",
       "Name: yearweek, dtype: int64"
      ]
     },
     "execution_count": 29,
     "metadata": {},
     "output_type": "execute_result"
    }
   ],
   "source": [
    "data.yearweek.value_counts()"
   ]
  },
  {
   "cell_type": "code",
   "execution_count": 30,
   "id": "182e8654",
   "metadata": {},
   "outputs": [
    {
     "data": {
      "text/plain": [
       "0    270597\n",
       "1      5019\n",
       "Name: converted, dtype: int64"
      ]
     },
     "execution_count": 30,
     "metadata": {},
     "output_type": "execute_result"
    }
   ],
   "source": [
    "data.converted.value_counts()"
   ]
  },
  {
   "cell_type": "code",
   "execution_count": 77,
   "id": "b764ab3a",
   "metadata": {},
   "outputs": [],
   "source": [
    "converted_adsbysource = data.groupby('source')[['source','converted']].sum('converted').sort_values(by='converted',ascending=False)"
   ]
  },
  {
   "cell_type": "code",
   "execution_count": 76,
   "id": "f7a966b8",
   "metadata": {},
   "outputs": [
    {
     "data": {
      "text/html": [
       "<div>\n",
       "<style scoped>\n",
       "    .dataframe tbody tr th:only-of-type {\n",
       "        vertical-align: middle;\n",
       "    }\n",
       "\n",
       "    .dataframe tbody tr th {\n",
       "        vertical-align: top;\n",
       "    }\n",
       "\n",
       "    .dataframe thead th {\n",
       "        text-align: right;\n",
       "    }\n",
       "</style>\n",
       "<table border=\"1\" class=\"dataframe\">\n",
       "  <thead>\n",
       "    <tr style=\"text-align: right;\">\n",
       "      <th></th>\n",
       "      <th>converted</th>\n",
       "    </tr>\n",
       "    <tr>\n",
       "      <th>source</th>\n",
       "      <th></th>\n",
       "    </tr>\n",
       "  </thead>\n",
       "  <tbody>\n",
       "    <tr>\n",
       "      <th>ads-google</th>\n",
       "      <td>1102</td>\n",
       "    </tr>\n",
       "    <tr>\n",
       "      <th>ads_facebook</th>\n",
       "      <td>983</td>\n",
       "    </tr>\n",
       "    <tr>\n",
       "      <th>friend_referral</th>\n",
       "      <td>683</td>\n",
       "    </tr>\n",
       "    <tr>\n",
       "      <th>direct_traffic</th>\n",
       "      <td>639</td>\n",
       "    </tr>\n",
       "    <tr>\n",
       "      <th>ads_other</th>\n",
       "      <td>375</td>\n",
       "    </tr>\n",
       "    <tr>\n",
       "      <th>seo-google</th>\n",
       "      <td>343</td>\n",
       "    </tr>\n",
       "    <tr>\n",
       "      <th>seo_facebook</th>\n",
       "      <td>293</td>\n",
       "    </tr>\n",
       "    <tr>\n",
       "      <th>ads-bing</th>\n",
       "      <td>238</td>\n",
       "    </tr>\n",
       "    <tr>\n",
       "      <th>seo-other</th>\n",
       "      <td>128</td>\n",
       "    </tr>\n",
       "    <tr>\n",
       "      <th>seo-yahoo</th>\n",
       "      <td>99</td>\n",
       "    </tr>\n",
       "    <tr>\n",
       "      <th>ads-yahoo</th>\n",
       "      <td>96</td>\n",
       "    </tr>\n",
       "    <tr>\n",
       "      <th>seo-bing</th>\n",
       "      <td>40</td>\n",
       "    </tr>\n",
       "  </tbody>\n",
       "</table>\n",
       "</div>"
      ],
      "text/plain": [
       "                 converted\n",
       "source                    \n",
       "ads-google            1102\n",
       "ads_facebook           983\n",
       "friend_referral        683\n",
       "direct_traffic         639\n",
       "ads_other              375\n",
       "seo-google             343\n",
       "seo_facebook           293\n",
       "ads-bing               238\n",
       "seo-other              128\n",
       "seo-yahoo               99\n",
       "ads-yahoo               96\n",
       "seo-bing                40"
      ]
     },
     "execution_count": 76,
     "metadata": {},
     "output_type": "execute_result"
    }
   ],
   "source": [
    "data.groupby('source')[['source','converted']].sum('converted').sort_values(by='converted',ascending=False)"
   ]
  },
  {
   "cell_type": "markdown",
   "id": "66a48946",
   "metadata": {},
   "source": [
    "## Data Preprocessing"
   ]
  },
  {
   "cell_type": "code",
   "execution_count": 32,
   "id": "e1976cde",
   "metadata": {},
   "outputs": [],
   "source": [
    "data_dummy = pd.get_dummies(data,drop_first=True)"
   ]
  },
  {
   "cell_type": "code",
   "execution_count": 33,
   "id": "b4461163",
   "metadata": {},
   "outputs": [
    {
     "data": {
      "text/html": [
       "<div>\n",
       "<style scoped>\n",
       "    .dataframe tbody tr th:only-of-type {\n",
       "        vertical-align: middle;\n",
       "    }\n",
       "\n",
       "    .dataframe tbody tr th {\n",
       "        vertical-align: top;\n",
       "    }\n",
       "\n",
       "    .dataframe thead th {\n",
       "        text-align: right;\n",
       "    }\n",
       "</style>\n",
       "<table border=\"1\" class=\"dataframe\">\n",
       "  <thead>\n",
       "    <tr style=\"text-align: right;\">\n",
       "      <th></th>\n",
       "      <th>user_id</th>\n",
       "      <th>lat</th>\n",
       "      <th>long</th>\n",
       "      <th>yearweek</th>\n",
       "      <th>converted</th>\n",
       "      <th>source_ads-google</th>\n",
       "      <th>source_ads-yahoo</th>\n",
       "      <th>source_ads_facebook</th>\n",
       "      <th>source_ads_other</th>\n",
       "      <th>source_direct_traffic</th>\n",
       "      <th>...</th>\n",
       "      <th>operative_system_linux</th>\n",
       "      <th>operative_system_mac</th>\n",
       "      <th>operative_system_other</th>\n",
       "      <th>operative_system_windows</th>\n",
       "      <th>weekday_Monday</th>\n",
       "      <th>weekday_Saturday</th>\n",
       "      <th>weekday_Sunday</th>\n",
       "      <th>weekday_Thursday</th>\n",
       "      <th>weekday_Tuesday</th>\n",
       "      <th>weekday_Wednesday</th>\n",
       "    </tr>\n",
       "  </thead>\n",
       "  <tbody>\n",
       "    <tr>\n",
       "      <th>0</th>\n",
       "      <td>3</td>\n",
       "      <td>38.89</td>\n",
       "      <td>-94.81</td>\n",
       "      <td>16</td>\n",
       "      <td>0</td>\n",
       "      <td>0</td>\n",
       "      <td>0</td>\n",
       "      <td>0</td>\n",
       "      <td>0</td>\n",
       "      <td>0</td>\n",
       "      <td>...</td>\n",
       "      <td>0</td>\n",
       "      <td>1</td>\n",
       "      <td>0</td>\n",
       "      <td>0</td>\n",
       "      <td>0</td>\n",
       "      <td>0</td>\n",
       "      <td>0</td>\n",
       "      <td>0</td>\n",
       "      <td>0</td>\n",
       "      <td>0</td>\n",
       "    </tr>\n",
       "    <tr>\n",
       "      <th>1</th>\n",
       "      <td>9</td>\n",
       "      <td>41.68</td>\n",
       "      <td>-72.94</td>\n",
       "      <td>18</td>\n",
       "      <td>0</td>\n",
       "      <td>0</td>\n",
       "      <td>0</td>\n",
       "      <td>0</td>\n",
       "      <td>0</td>\n",
       "      <td>0</td>\n",
       "      <td>...</td>\n",
       "      <td>0</td>\n",
       "      <td>0</td>\n",
       "      <td>0</td>\n",
       "      <td>0</td>\n",
       "      <td>0</td>\n",
       "      <td>0</td>\n",
       "      <td>0</td>\n",
       "      <td>0</td>\n",
       "      <td>0</td>\n",
       "      <td>0</td>\n",
       "    </tr>\n",
       "    <tr>\n",
       "      <th>2</th>\n",
       "      <td>14</td>\n",
       "      <td>39.74</td>\n",
       "      <td>-75.53</td>\n",
       "      <td>13</td>\n",
       "      <td>0</td>\n",
       "      <td>0</td>\n",
       "      <td>0</td>\n",
       "      <td>0</td>\n",
       "      <td>0</td>\n",
       "      <td>0</td>\n",
       "      <td>...</td>\n",
       "      <td>0</td>\n",
       "      <td>0</td>\n",
       "      <td>0</td>\n",
       "      <td>0</td>\n",
       "      <td>0</td>\n",
       "      <td>1</td>\n",
       "      <td>0</td>\n",
       "      <td>0</td>\n",
       "      <td>0</td>\n",
       "      <td>0</td>\n",
       "    </tr>\n",
       "    <tr>\n",
       "      <th>3</th>\n",
       "      <td>16</td>\n",
       "      <td>37.99</td>\n",
       "      <td>-121.80</td>\n",
       "      <td>21</td>\n",
       "      <td>0</td>\n",
       "      <td>1</td>\n",
       "      <td>0</td>\n",
       "      <td>0</td>\n",
       "      <td>0</td>\n",
       "      <td>0</td>\n",
       "      <td>...</td>\n",
       "      <td>0</td>\n",
       "      <td>0</td>\n",
       "      <td>0</td>\n",
       "      <td>0</td>\n",
       "      <td>0</td>\n",
       "      <td>0</td>\n",
       "      <td>0</td>\n",
       "      <td>0</td>\n",
       "      <td>0</td>\n",
       "      <td>0</td>\n",
       "    </tr>\n",
       "    <tr>\n",
       "      <th>4</th>\n",
       "      <td>19</td>\n",
       "      <td>41.08</td>\n",
       "      <td>-81.52</td>\n",
       "      <td>14</td>\n",
       "      <td>0</td>\n",
       "      <td>1</td>\n",
       "      <td>0</td>\n",
       "      <td>0</td>\n",
       "      <td>0</td>\n",
       "      <td>0</td>\n",
       "      <td>...</td>\n",
       "      <td>0</td>\n",
       "      <td>0</td>\n",
       "      <td>0</td>\n",
       "      <td>0</td>\n",
       "      <td>0</td>\n",
       "      <td>0</td>\n",
       "      <td>0</td>\n",
       "      <td>0</td>\n",
       "      <td>0</td>\n",
       "      <td>1</td>\n",
       "    </tr>\n",
       "  </tbody>\n",
       "</table>\n",
       "<p>5 rows × 28 columns</p>\n",
       "</div>"
      ],
      "text/plain": [
       "   user_id    lat    long  yearweek  converted  source_ads-google  \\\n",
       "0        3  38.89  -94.81        16          0                  0   \n",
       "1        9  41.68  -72.94        18          0                  0   \n",
       "2       14  39.74  -75.53        13          0                  0   \n",
       "3       16  37.99 -121.80        21          0                  1   \n",
       "4       19  41.08  -81.52        14          0                  1   \n",
       "\n",
       "   source_ads-yahoo  source_ads_facebook  source_ads_other  \\\n",
       "0                 0                    0                 0   \n",
       "1                 0                    0                 0   \n",
       "2                 0                    0                 0   \n",
       "3                 0                    0                 0   \n",
       "4                 0                    0                 0   \n",
       "\n",
       "   source_direct_traffic  ...  operative_system_linux  operative_system_mac  \\\n",
       "0                      0  ...                       0                     1   \n",
       "1                      0  ...                       0                     0   \n",
       "2                      0  ...                       0                     0   \n",
       "3                      0  ...                       0                     0   \n",
       "4                      0  ...                       0                     0   \n",
       "\n",
       "   operative_system_other  operative_system_windows  weekday_Monday  \\\n",
       "0                       0                         0               0   \n",
       "1                       0                         0               0   \n",
       "2                       0                         0               0   \n",
       "3                       0                         0               0   \n",
       "4                       0                         0               0   \n",
       "\n",
       "   weekday_Saturday  weekday_Sunday  weekday_Thursday  weekday_Tuesday  \\\n",
       "0                 0               0                 0                0   \n",
       "1                 0               0                 0                0   \n",
       "2                 1               0                 0                0   \n",
       "3                 0               0                 0                0   \n",
       "4                 0               0                 0                0   \n",
       "\n",
       "   weekday_Wednesday  \n",
       "0                  0  \n",
       "1                  0  \n",
       "2                  0  \n",
       "3                  0  \n",
       "4                  1  \n",
       "\n",
       "[5 rows x 28 columns]"
      ]
     },
     "execution_count": 33,
     "metadata": {},
     "output_type": "execute_result"
    }
   ],
   "source": [
    "data_dummy.head()"
   ]
  },
  {
   "cell_type": "markdown",
   "id": "35ad60c2",
   "metadata": {},
   "source": [
    "## Building a logistic Regression"
   ]
  },
  {
   "cell_type": "code",
   "execution_count": 57,
   "id": "3ae67a3b",
   "metadata": {},
   "outputs": [],
   "source": [
    "from sklearn.linear_model import LogisticRegression\n",
    "import statsmodels.api as sm"
   ]
  },
  {
   "cell_type": "code",
   "execution_count": 58,
   "id": "6dedd8e5",
   "metadata": {},
   "outputs": [],
   "source": [
    "train = data_dummy.drop('converted',axis=1)"
   ]
  },
  {
   "cell_type": "code",
   "execution_count": 67,
   "id": "7f776d84",
   "metadata": {},
   "outputs": [],
   "source": [
    "train['intercept'] = 1 "
   ]
  },
  {
   "cell_type": "code",
   "execution_count": 68,
   "id": "89ed0b6a",
   "metadata": {},
   "outputs": [],
   "source": [
    "logit = sm.Logit(data_dummy['converted'],train)"
   ]
  },
  {
   "cell_type": "code",
   "execution_count": 69,
   "id": "49184a6c",
   "metadata": {},
   "outputs": [
    {
     "name": "stdout",
     "output_type": "stream",
     "text": [
      "Warning: Maximum number of iterations has been exceeded.\n",
      "         Current function value: 0.089555\n",
      "         Iterations: 35\n"
     ]
    },
    {
     "name": "stderr",
     "output_type": "stream",
     "text": [
      "C:\\Users\\aratr\\anaconda3\\lib\\site-packages\\statsmodels\\base\\model.py:566: ConvergenceWarning: Maximum Likelihood optimization failed to converge. Check mle_retvals\n",
      "  warnings.warn(\"Maximum Likelihood optimization failed to \"\n"
     ]
    }
   ],
   "source": [
    "output = logit.fit()"
   ]
  },
  {
   "cell_type": "code",
   "execution_count": 70,
   "id": "993186b7",
   "metadata": {},
   "outputs": [],
   "source": [
    "output_df = pd.DataFrame(dict(coeff=output.params,se=output.bse,pvalue=output.pvalues,t_Value=output.tvalues))"
   ]
  },
  {
   "cell_type": "code",
   "execution_count": 138,
   "id": "d5d8f198",
   "metadata": {},
   "outputs": [
    {
     "data": {
      "text/html": [
       "<div>\n",
       "<style scoped>\n",
       "    .dataframe tbody tr th:only-of-type {\n",
       "        vertical-align: middle;\n",
       "    }\n",
       "\n",
       "    .dataframe tbody tr th {\n",
       "        vertical-align: top;\n",
       "    }\n",
       "\n",
       "    .dataframe thead th {\n",
       "        text-align: right;\n",
       "    }\n",
       "</style>\n",
       "<table border=\"1\" class=\"dataframe\">\n",
       "  <thead>\n",
       "    <tr style=\"text-align: right;\">\n",
       "      <th></th>\n",
       "      <th>coeff</th>\n",
       "      <th>se</th>\n",
       "      <th>pvalue</th>\n",
       "      <th>t_Value</th>\n",
       "    </tr>\n",
       "  </thead>\n",
       "  <tbody>\n",
       "    <tr>\n",
       "      <th>source_friend_referral</th>\n",
       "      <td>1.177281</td>\n",
       "      <td>0.076029</td>\n",
       "      <td>4.409649e-54</td>\n",
       "      <td>15.484575</td>\n",
       "    </tr>\n",
       "    <tr>\n",
       "      <th>source_ads-google</th>\n",
       "      <td>0.587031</td>\n",
       "      <td>0.071997</td>\n",
       "      <td>3.533160e-16</td>\n",
       "      <td>8.153577</td>\n",
       "    </tr>\n",
       "    <tr>\n",
       "      <th>source_ads_facebook</th>\n",
       "      <td>0.577365</td>\n",
       "      <td>0.072771</td>\n",
       "      <td>2.121665e-15</td>\n",
       "      <td>7.934018</td>\n",
       "    </tr>\n",
       "    <tr>\n",
       "      <th>source_seo-bing</th>\n",
       "      <td>0.573800</td>\n",
       "      <td>0.172699</td>\n",
       "      <td>8.920106e-04</td>\n",
       "      <td>3.322543</td>\n",
       "    </tr>\n",
       "    <tr>\n",
       "      <th>operative_system_iOS</th>\n",
       "      <td>0.407536</td>\n",
       "      <td>0.040065</td>\n",
       "      <td>2.646118e-24</td>\n",
       "      <td>10.171930</td>\n",
       "    </tr>\n",
       "    <tr>\n",
       "      <th>source_seo-google</th>\n",
       "      <td>0.356743</td>\n",
       "      <td>0.084992</td>\n",
       "      <td>2.700258e-05</td>\n",
       "      <td>4.197376</td>\n",
       "    </tr>\n",
       "    <tr>\n",
       "      <th>source_seo-yahoo</th>\n",
       "      <td>0.336044</td>\n",
       "      <td>0.120564</td>\n",
       "      <td>5.315571e-03</td>\n",
       "      <td>2.787261</td>\n",
       "    </tr>\n",
       "    <tr>\n",
       "      <th>source_seo_facebook</th>\n",
       "      <td>0.290116</td>\n",
       "      <td>0.087898</td>\n",
       "      <td>9.647307e-04</td>\n",
       "      <td>3.300615</td>\n",
       "    </tr>\n",
       "    <tr>\n",
       "      <th>source_seo-other</th>\n",
       "      <td>0.287583</td>\n",
       "      <td>0.110455</td>\n",
       "      <td>9.224834e-03</td>\n",
       "      <td>2.603607</td>\n",
       "    </tr>\n",
       "    <tr>\n",
       "      <th>source_ads_other</th>\n",
       "      <td>0.186544</td>\n",
       "      <td>0.083446</td>\n",
       "      <td>2.538346e-02</td>\n",
       "      <td>2.235517</td>\n",
       "    </tr>\n",
       "    <tr>\n",
       "      <th>weekday_Tuesday</th>\n",
       "      <td>-0.142619</td>\n",
       "      <td>0.066179</td>\n",
       "      <td>3.115732e-02</td>\n",
       "      <td>-2.155058</td>\n",
       "    </tr>\n",
       "    <tr>\n",
       "      <th>operative_system_other</th>\n",
       "      <td>-0.170095</td>\n",
       "      <td>0.082942</td>\n",
       "      <td>4.028980e-02</td>\n",
       "      <td>-2.050765</td>\n",
       "    </tr>\n",
       "    <tr>\n",
       "      <th>intercept</th>\n",
       "      <td>-4.409939</td>\n",
       "      <td>0.168811</td>\n",
       "      <td>1.967960e-150</td>\n",
       "      <td>-26.123578</td>\n",
       "    </tr>\n",
       "  </tbody>\n",
       "</table>\n",
       "</div>"
      ],
      "text/plain": [
       "                           coeff        se         pvalue    t_Value\n",
       "source_friend_referral  1.177281  0.076029   4.409649e-54  15.484575\n",
       "source_ads-google       0.587031  0.071997   3.533160e-16   8.153577\n",
       "source_ads_facebook     0.577365  0.072771   2.121665e-15   7.934018\n",
       "source_seo-bing         0.573800  0.172699   8.920106e-04   3.322543\n",
       "operative_system_iOS    0.407536  0.040065   2.646118e-24  10.171930\n",
       "source_seo-google       0.356743  0.084992   2.700258e-05   4.197376\n",
       "source_seo-yahoo        0.336044  0.120564   5.315571e-03   2.787261\n",
       "source_seo_facebook     0.290116  0.087898   9.647307e-04   3.300615\n",
       "source_seo-other        0.287583  0.110455   9.224834e-03   2.603607\n",
       "source_ads_other        0.186544  0.083446   2.538346e-02   2.235517\n",
       "weekday_Tuesday        -0.142619  0.066179   3.115732e-02  -2.155058\n",
       "operative_system_other -0.170095  0.082942   4.028980e-02  -2.050765\n",
       "intercept              -4.409939  0.168811  1.967960e-150 -26.123578"
      ]
     },
     "execution_count": 138,
     "metadata": {},
     "output_type": "execute_result"
    }
   ],
   "source": [
    "output_df[output_df['pvalue']<0.05].sort_values(by='coeff',ascending=False)"
   ]
  },
  {
   "cell_type": "code",
   "execution_count": 84,
   "id": "7bbbe276",
   "metadata": {},
   "outputs": [],
   "source": [
    "converted_adsbysource.reset_index(inplace=True)"
   ]
  },
  {
   "cell_type": "code",
   "execution_count": 88,
   "id": "b2ca16ba",
   "metadata": {},
   "outputs": [],
   "source": [
    "source_count = pd.DataFrame(data.source.value_counts())"
   ]
  },
  {
   "cell_type": "code",
   "execution_count": 91,
   "id": "b2fc30ba",
   "metadata": {},
   "outputs": [],
   "source": [
    "source_count.reset_index(inplace=True)"
   ]
  },
  {
   "cell_type": "code",
   "execution_count": 93,
   "id": "b8309c28",
   "metadata": {},
   "outputs": [],
   "source": [
    "percentage_conversion = pd.merge(converted_adsbysource,source_count,left_on='source',right_on='index')"
   ]
  },
  {
   "cell_type": "code",
   "execution_count": 95,
   "id": "921be37b",
   "metadata": {},
   "outputs": [],
   "source": [
    "percentage_conversion['perc'] = percentage_conversion['converted']/percentage_conversion['source_y']"
   ]
  },
  {
   "cell_type": "code",
   "execution_count": 98,
   "id": "4181392f",
   "metadata": {},
   "outputs": [
    {
     "data": {
      "text/html": [
       "<div>\n",
       "<style scoped>\n",
       "    .dataframe tbody tr th:only-of-type {\n",
       "        vertical-align: middle;\n",
       "    }\n",
       "\n",
       "    .dataframe tbody tr th {\n",
       "        vertical-align: top;\n",
       "    }\n",
       "\n",
       "    .dataframe thead th {\n",
       "        text-align: right;\n",
       "    }\n",
       "</style>\n",
       "<table border=\"1\" class=\"dataframe\">\n",
       "  <thead>\n",
       "    <tr style=\"text-align: right;\">\n",
       "      <th></th>\n",
       "      <th>source_x</th>\n",
       "      <th>converted</th>\n",
       "      <th>index</th>\n",
       "      <th>source_y</th>\n",
       "      <th>perc</th>\n",
       "    </tr>\n",
       "  </thead>\n",
       "  <tbody>\n",
       "    <tr>\n",
       "      <th>2</th>\n",
       "      <td>friend_referral</td>\n",
       "      <td>683</td>\n",
       "      <td>friend_referral</td>\n",
       "      <td>18011</td>\n",
       "      <td>0.037921</td>\n",
       "    </tr>\n",
       "    <tr>\n",
       "      <th>0</th>\n",
       "      <td>ads-google</td>\n",
       "      <td>1102</td>\n",
       "      <td>ads-google</td>\n",
       "      <td>51576</td>\n",
       "      <td>0.021367</td>\n",
       "    </tr>\n",
       "    <tr>\n",
       "      <th>11</th>\n",
       "      <td>seo-bing</td>\n",
       "      <td>40</td>\n",
       "      <td>seo-bing</td>\n",
       "      <td>1874</td>\n",
       "      <td>0.021345</td>\n",
       "    </tr>\n",
       "    <tr>\n",
       "      <th>1</th>\n",
       "      <td>ads_facebook</td>\n",
       "      <td>983</td>\n",
       "      <td>ads_facebook</td>\n",
       "      <td>46365</td>\n",
       "      <td>0.021201</td>\n",
       "    </tr>\n",
       "    <tr>\n",
       "      <th>5</th>\n",
       "      <td>seo-google</td>\n",
       "      <td>343</td>\n",
       "      <td>seo-google</td>\n",
       "      <td>20157</td>\n",
       "      <td>0.017016</td>\n",
       "    </tr>\n",
       "    <tr>\n",
       "      <th>9</th>\n",
       "      <td>seo-yahoo</td>\n",
       "      <td>99</td>\n",
       "      <td>seo-yahoo</td>\n",
       "      <td>5961</td>\n",
       "      <td>0.016608</td>\n",
       "    </tr>\n",
       "    <tr>\n",
       "      <th>8</th>\n",
       "      <td>seo-other</td>\n",
       "      <td>128</td>\n",
       "      <td>seo-other</td>\n",
       "      <td>8058</td>\n",
       "      <td>0.015885</td>\n",
       "    </tr>\n",
       "    <tr>\n",
       "      <th>6</th>\n",
       "      <td>seo_facebook</td>\n",
       "      <td>293</td>\n",
       "      <td>seo_facebook</td>\n",
       "      <td>18473</td>\n",
       "      <td>0.015861</td>\n",
       "    </tr>\n",
       "    <tr>\n",
       "      <th>10</th>\n",
       "      <td>ads-yahoo</td>\n",
       "      <td>96</td>\n",
       "      <td>ads-yahoo</td>\n",
       "      <td>6576</td>\n",
       "      <td>0.014599</td>\n",
       "    </tr>\n",
       "    <tr>\n",
       "      <th>4</th>\n",
       "      <td>ads_other</td>\n",
       "      <td>375</td>\n",
       "      <td>ads_other</td>\n",
       "      <td>26084</td>\n",
       "      <td>0.014377</td>\n",
       "    </tr>\n",
       "    <tr>\n",
       "      <th>3</th>\n",
       "      <td>direct_traffic</td>\n",
       "      <td>639</td>\n",
       "      <td>direct_traffic</td>\n",
       "      <td>52594</td>\n",
       "      <td>0.012150</td>\n",
       "    </tr>\n",
       "    <tr>\n",
       "      <th>7</th>\n",
       "      <td>ads-bing</td>\n",
       "      <td>238</td>\n",
       "      <td>ads-bing</td>\n",
       "      <td>19887</td>\n",
       "      <td>0.011968</td>\n",
       "    </tr>\n",
       "  </tbody>\n",
       "</table>\n",
       "</div>"
      ],
      "text/plain": [
       "           source_x  converted            index  source_y      perc\n",
       "2   friend_referral        683  friend_referral     18011  0.037921\n",
       "0        ads-google       1102       ads-google     51576  0.021367\n",
       "11         seo-bing         40         seo-bing      1874  0.021345\n",
       "1      ads_facebook        983     ads_facebook     46365  0.021201\n",
       "5        seo-google        343       seo-google     20157  0.017016\n",
       "9         seo-yahoo         99        seo-yahoo      5961  0.016608\n",
       "8         seo-other        128        seo-other      8058  0.015885\n",
       "6      seo_facebook        293     seo_facebook     18473  0.015861\n",
       "10        ads-yahoo         96        ads-yahoo      6576  0.014599\n",
       "4         ads_other        375        ads_other     26084  0.014377\n",
       "3    direct_traffic        639   direct_traffic     52594  0.012150\n",
       "7          ads-bing        238         ads-bing     19887  0.011968"
      ]
     },
     "execution_count": 98,
     "metadata": {},
     "output_type": "execute_result"
    }
   ],
   "source": [
    "percentage_conversion.sort_values('perc',ascending=False)"
   ]
  },
  {
   "cell_type": "markdown",
   "id": "03147753",
   "metadata": {},
   "source": [
    "## Insights: \n",
    "\n",
    "#### 1. Friend Referrals are the way to go, we should talk to the manager regarding what kind of efforts are being taken in this direction and possibly spend more money in this program, if its justified by the Customer Lifetime Value.\n",
    "\n",
    "#### 2. Coefficients of ADS by Google, Facebook and Bing are almost the same, so is the percentage of conversion however we are sending out a lot of \"Other\" ads we would like to check the spending on those ads, also on bing ads the conversion rate is too low, we maybe need to target the users in a different way.\n",
    "\n",
    "#### 3. We see that iOS users are more likely to click on the ad, Could we compare the positioning, placement and UI for the ad? Maybe we could redesign the Windows/Android App.\n",
    "\n",
    "#### 4. It seems like the days dont matter, but Tuesday is significantly worse than Friday."
   ]
  },
  {
   "cell_type": "code",
   "execution_count": null,
   "id": "2e74b891",
   "metadata": {},
   "outputs": [],
   "source": []
  },
  {
   "cell_type": "markdown",
   "id": "0b727294",
   "metadata": {},
   "source": [
    "## Creating a tree to check for additional Rules :"
   ]
  },
  {
   "cell_type": "code",
   "execution_count": 118,
   "id": "9d081f98",
   "metadata": {},
   "outputs": [],
   "source": [
    "from sklearn.tree import DecisionTreeClassifier\n",
    "from graphviz import Source\n",
    "from sklearn.tree import export_graphviz"
   ]
  },
  {
   "cell_type": "code",
   "execution_count": 119,
   "id": "b758ed45",
   "metadata": {},
   "outputs": [],
   "source": [
    "tree = DecisionTreeClassifier(max_depth=6,class_weight='balanced',min_impurity_decrease=0.001)"
   ]
  },
  {
   "cell_type": "code",
   "execution_count": 120,
   "id": "303422af",
   "metadata": {},
   "outputs": [
    {
     "data": {
      "text/plain": [
       "DecisionTreeClassifier(class_weight='balanced', max_depth=6,\n",
       "                       min_impurity_decrease=0.001)"
      ]
     },
     "execution_count": 120,
     "metadata": {},
     "output_type": "execute_result"
    }
   ],
   "source": [
    "tree.fit(train,data_dummy['converted'])"
   ]
  },
  {
   "cell_type": "code",
   "execution_count": 121,
   "id": "7ad1099c",
   "metadata": {},
   "outputs": [],
   "source": [
    "export_graphviz(tree,out_file=\"ex_tree.dot\",feature_names=train.columns,proportion=True,rotate=True)"
   ]
  },
  {
   "cell_type": "code",
   "execution_count": 122,
   "id": "e821698d",
   "metadata": {},
   "outputs": [],
   "source": [
    "S = Source.from_file(\"ex_tree.dot\")"
   ]
  },
  {
   "cell_type": "code",
   "execution_count": 123,
   "id": "cdea4a92",
   "metadata": {},
   "outputs": [
    {
     "data": {
      "text/plain": [
       "'ex_tree.dot.pdf'"
      ]
     },
     "execution_count": 123,
     "metadata": {},
     "output_type": "execute_result"
    }
   ],
   "source": [
    "S.view()"
   ]
  },
  {
   "cell_type": "markdown",
   "id": "ee77907e",
   "metadata": {},
   "source": [
    "## Analysis\n",
    "\n",
    "### 1. We see that as we guessed \"Refered by a friend\" is very important here as well and as we go down that is \"Refer Friend\" is true the probabllity  of correct prediction is incerased to 68%, Everything becomes irrelevant as well. Thus we should foucus on this area by both of our analysis\n",
    "\n",
    "### 2. When a person directly visits a website without a referral, we see that only 30% people converted, we need to probably check in with the manager if the UI/UX is upto the mark.\n",
    "\n",
    "### 3. Anything after that doesnt give us much information"
   ]
  },
  {
   "cell_type": "code",
   "execution_count": null,
   "id": "22422f6a",
   "metadata": {},
   "outputs": [],
   "source": []
  },
  {
   "cell_type": "markdown",
   "id": "d391a1f8",
   "metadata": {},
   "source": [
    "## We already have a couple of insights by now, I will check on PDP"
   ]
  },
  {
   "cell_type": "code",
   "execution_count": 129,
   "id": "2b6aae1b",
   "metadata": {},
   "outputs": [],
   "source": [
    "import pdp"
   ]
  },
  {
   "cell_type": "code",
   "execution_count": 133,
   "id": "44de5a88",
   "metadata": {},
   "outputs": [],
   "source": [
    "feat_original = data_dummy.columns.drop('converted')"
   ]
  },
  {
   "cell_type": "code",
   "execution_count": null,
   "id": "592ddaf7",
   "metadata": {},
   "outputs": [],
   "source": [
    "pdp.pdp_"
   ]
  },
  {
   "cell_type": "code",
   "execution_count": 136,
   "id": "2ff9c483",
   "metadata": {},
   "outputs": [
    {
     "ename": "AttributeError",
     "evalue": "module 'pdp' has no attribute 'pdp_isolate'",
     "output_type": "error",
     "traceback": [
      "\u001b[1;31m---------------------------------------------------------------------------\u001b[0m",
      "\u001b[1;31mAttributeError\u001b[0m                            Traceback (most recent call last)",
      "\u001b[1;32m<ipython-input-136-f6f2aff8eca6>\u001b[0m in \u001b[0;36m<module>\u001b[1;34m\u001b[0m\n\u001b[0;32m      4\u001b[0m \u001b[1;33m\u001b[0m\u001b[0m\n\u001b[0;32m      5\u001b[0m     \u001b[1;32mif\u001b[0m \u001b[0mlen\u001b[0m\u001b[1;33m(\u001b[0m\u001b[0mplot_variable\u001b[0m\u001b[1;33m)\u001b[0m \u001b[1;33m==\u001b[0m \u001b[1;36m1\u001b[0m\u001b[1;33m:\u001b[0m\u001b[1;33m\u001b[0m\u001b[1;33m\u001b[0m\u001b[0m\n\u001b[1;32m----> 6\u001b[1;33m         \u001b[0mpdp_iso\u001b[0m \u001b[1;33m=\u001b[0m \u001b[0mpdp\u001b[0m\u001b[1;33m.\u001b[0m\u001b[0mpdp_isolate\u001b[0m\u001b[1;33m(\u001b[0m \u001b[0mmodel\u001b[0m\u001b[1;33m=\u001b[0m\u001b[0mrf\u001b[0m\u001b[1;33m,\u001b[0m \u001b[0mdataset\u001b[0m\u001b[1;33m=\u001b[0m\u001b[0mtrain\u001b[0m\u001b[1;33m.\u001b[0m\u001b[0mcolumns\u001b[0m\u001b[1;33m,\u001b[0m \u001b[0mmodel_features\u001b[0m\u001b[1;33m=\u001b[0m\u001b[0mtrain\u001b[0m\u001b[1;33m.\u001b[0m\u001b[0mcolumns\u001b[0m\u001b[1;33m,\u001b[0m \u001b[0mfeature\u001b[0m\u001b[1;33m=\u001b[0m\u001b[0mplot_variable\u001b[0m\u001b[1;33m[\u001b[0m\u001b[1;36m0\u001b[0m\u001b[1;33m]\u001b[0m\u001b[1;33m,\u001b[0m \u001b[0mnum_grid_points\u001b[0m\u001b[1;33m=\u001b[0m\u001b[1;36m50\u001b[0m\u001b[1;33m)\u001b[0m\u001b[1;33m\u001b[0m\u001b[1;33m\u001b[0m\u001b[0m\n\u001b[0m\u001b[0;32m      7\u001b[0m         \u001b[0mpdp_dataset\u001b[0m \u001b[1;33m=\u001b[0m \u001b[0mpandas\u001b[0m\u001b[1;33m.\u001b[0m\u001b[0mSeries\u001b[0m\u001b[1;33m(\u001b[0m\u001b[0mpdp_iso\u001b[0m\u001b[1;33m.\u001b[0m\u001b[0mpdp\u001b[0m\u001b[1;33m,\u001b[0m \u001b[0mindex\u001b[0m\u001b[1;33m=\u001b[0m\u001b[0mpdp_iso\u001b[0m\u001b[1;33m.\u001b[0m\u001b[0mfeature_grids\u001b[0m\u001b[1;33m)\u001b[0m\u001b[1;33m\u001b[0m\u001b[1;33m\u001b[0m\u001b[0m\n\u001b[0;32m      8\u001b[0m         \u001b[1;31m#pdpbox has several options if you want to use their built-in plots. I personally prefer just using .plot. It is totally subjective obviously.\u001b[0m\u001b[1;33m\u001b[0m\u001b[1;33m\u001b[0m\u001b[1;33m\u001b[0m\u001b[0m\n",
      "\u001b[1;31mAttributeError\u001b[0m: module 'pdp' has no attribute 'pdp_isolate'"
     ]
    }
   ],
   "source": [
    "for i in range(len(feat_original)):\n",
    "    \n",
    "    plot_variable = [e for e in train.columns if e.startswith(feat_original[i])]\n",
    "   \n",
    "    if len(plot_variable) == 1:\n",
    "        pdp_iso = pdp.pdp_isolate( model=rf, dataset=train.columns, model_features=train.columns, feature=plot_variable[0], num_grid_points=50)\n",
    "        pdp_dataset = pandas.Series(pdp_iso.pdp, index=pdp_iso.feature_grids)\n",
    "        #pdpbox has several options if you want to use their built-in plots. I personally prefer just using .plot. It is totally subjective obviously.\n",
    "        pdp_dataset.plot(title=feat_original[i])\n",
    "        plt.show()\n",
    "         \n",
    "    #categorical variables with several levels\n",
    "    else:\n",
    "        pdp_iso = pdp.pdp_isolate( model=rf, dataset=train.columns, model_features=train.columns,  feature=plot_variable, num_grid_points=50)\n",
    "        pdp_dataset = pandas.Series(pdp_iso.pdp, index=pdp_iso.display_columns)\n",
    "        pdp_dataset.sort_values(ascending=False).plot(kind='bar', title=feat_original[i])\n",
    "        plt.show()\n",
    "    plt.close()   \n",
    "    \n",
    "    "
   ]
  },
  {
   "cell_type": "code",
   "execution_count": null,
   "id": "ed9b4a9e",
   "metadata": {},
   "outputs": [],
   "source": [
    "# Matplot Lib WHeel Error while installing pdpbox, still trying to fix it "
   ]
  },
  {
   "cell_type": "markdown",
   "id": "a49db68c",
   "metadata": {},
   "source": [
    "# My Top 3 Insights\n",
    "\n",
    "### 1. Imporve referral rewards, introduce some kind of gamification where users can collect more points together\n",
    "\n",
    "### 2. Improve UI/UX design, Make Better Funnel for people visiting the website\n",
    "\n",
    "### 3. Target more iOS users, talk with the manager on why Windows/Android ads are not doing better\n",
    "\n",
    "### 4. Saves costs on \"other\" types of ad"
   ]
  },
  {
   "cell_type": "code",
   "execution_count": null,
   "id": "401298e1",
   "metadata": {},
   "outputs": [],
   "source": []
  }
 ],
 "metadata": {
  "kernelspec": {
   "display_name": "Python 3",
   "language": "python",
   "name": "python3"
  },
  "language_info": {
   "codemirror_mode": {
    "name": "ipython",
    "version": 3
   },
   "file_extension": ".py",
   "mimetype": "text/x-python",
   "name": "python",
   "nbconvert_exporter": "python",
   "pygments_lexer": "ipython3",
   "version": "3.8.8"
  }
 },
 "nbformat": 4,
 "nbformat_minor": 5
}
