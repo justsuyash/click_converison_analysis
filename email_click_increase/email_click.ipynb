{
 "cells": [
  {
   "cell_type": "code",
   "execution_count": 1,
   "id": "a029d971",
   "metadata": {},
   "outputs": [],
   "source": [
    "import pandas as pd\n",
    "from sklearn.linear_model import LogisticRegression\n",
    "import statsmodels.api as sm\n",
    "import graphviz\n",
    "from sklearn.tree import DecisionTreeClassifier\n",
    "from sklearn.tree import export_graphviz\n",
    "from graphviz import Source"
   ]
  },
  {
   "cell_type": "code",
   "execution_count": 2,
   "id": "3cb359e8",
   "metadata": {},
   "outputs": [],
   "source": [
    "data = pd.read_csv('emails.csv')"
   ]
  },
  {
   "cell_type": "code",
   "execution_count": 3,
   "id": "132912c2",
   "metadata": {},
   "outputs": [
    {
     "data": {
      "text/html": [
       "<div>\n",
       "<style scoped>\n",
       "    .dataframe tbody tr th:only-of-type {\n",
       "        vertical-align: middle;\n",
       "    }\n",
       "\n",
       "    .dataframe tbody tr th {\n",
       "        vertical-align: top;\n",
       "    }\n",
       "\n",
       "    .dataframe thead th {\n",
       "        text-align: right;\n",
       "    }\n",
       "</style>\n",
       "<table border=\"1\" class=\"dataframe\">\n",
       "  <thead>\n",
       "    <tr style=\"text-align: right;\">\n",
       "      <th></th>\n",
       "      <th>email_id</th>\n",
       "      <th>email_text</th>\n",
       "      <th>email_version</th>\n",
       "      <th>hour</th>\n",
       "      <th>weekday</th>\n",
       "      <th>user_country</th>\n",
       "      <th>user_past_purchases</th>\n",
       "      <th>clicked</th>\n",
       "    </tr>\n",
       "  </thead>\n",
       "  <tbody>\n",
       "    <tr>\n",
       "      <th>0</th>\n",
       "      <td>8</td>\n",
       "      <td>short_email</td>\n",
       "      <td>generic</td>\n",
       "      <td>9</td>\n",
       "      <td>Thursday</td>\n",
       "      <td>US</td>\n",
       "      <td>3</td>\n",
       "      <td>0</td>\n",
       "    </tr>\n",
       "    <tr>\n",
       "      <th>1</th>\n",
       "      <td>33</td>\n",
       "      <td>long_email</td>\n",
       "      <td>personalized</td>\n",
       "      <td>6</td>\n",
       "      <td>Monday</td>\n",
       "      <td>US</td>\n",
       "      <td>0</td>\n",
       "      <td>0</td>\n",
       "    </tr>\n",
       "    <tr>\n",
       "      <th>2</th>\n",
       "      <td>46</td>\n",
       "      <td>short_email</td>\n",
       "      <td>generic</td>\n",
       "      <td>14</td>\n",
       "      <td>Tuesday</td>\n",
       "      <td>US</td>\n",
       "      <td>3</td>\n",
       "      <td>0</td>\n",
       "    </tr>\n",
       "    <tr>\n",
       "      <th>3</th>\n",
       "      <td>49</td>\n",
       "      <td>long_email</td>\n",
       "      <td>personalized</td>\n",
       "      <td>11</td>\n",
       "      <td>Thursday</td>\n",
       "      <td>US</td>\n",
       "      <td>10</td>\n",
       "      <td>0</td>\n",
       "    </tr>\n",
       "    <tr>\n",
       "      <th>4</th>\n",
       "      <td>65</td>\n",
       "      <td>short_email</td>\n",
       "      <td>generic</td>\n",
       "      <td>8</td>\n",
       "      <td>Wednesday</td>\n",
       "      <td>UK</td>\n",
       "      <td>3</td>\n",
       "      <td>0</td>\n",
       "    </tr>\n",
       "  </tbody>\n",
       "</table>\n",
       "</div>"
      ],
      "text/plain": [
       "   email_id   email_text email_version  hour    weekday user_country  \\\n",
       "0         8  short_email       generic     9   Thursday           US   \n",
       "1        33   long_email  personalized     6     Monday           US   \n",
       "2        46  short_email       generic    14    Tuesday           US   \n",
       "3        49   long_email  personalized    11   Thursday           US   \n",
       "4        65  short_email       generic     8  Wednesday           UK   \n",
       "\n",
       "   user_past_purchases  clicked  \n",
       "0                    3        0  \n",
       "1                    0        0  \n",
       "2                    3        0  \n",
       "3                   10        0  \n",
       "4                    3        0  "
      ]
     },
     "execution_count": 3,
     "metadata": {},
     "output_type": "execute_result"
    }
   ],
   "source": [
    "data.head()"
   ]
  },
  {
   "cell_type": "code",
   "execution_count": 4,
   "id": "46637733",
   "metadata": {},
   "outputs": [
    {
     "data": {
      "text/plain": [
       "0    97881\n",
       "1     2069\n",
       "Name: clicked, dtype: int64"
      ]
     },
     "execution_count": 4,
     "metadata": {},
     "output_type": "execute_result"
    }
   ],
   "source": [
    "data['clicked'].value_counts()"
   ]
  },
  {
   "cell_type": "code",
   "execution_count": 5,
   "id": "3aa7b498",
   "metadata": {},
   "outputs": [
    {
     "data": {
      "text/html": [
       "<div>\n",
       "<style scoped>\n",
       "    .dataframe tbody tr th:only-of-type {\n",
       "        vertical-align: middle;\n",
       "    }\n",
       "\n",
       "    .dataframe tbody tr th {\n",
       "        vertical-align: top;\n",
       "    }\n",
       "\n",
       "    .dataframe thead th {\n",
       "        text-align: right;\n",
       "    }\n",
       "</style>\n",
       "<table border=\"1\" class=\"dataframe\">\n",
       "  <thead>\n",
       "    <tr style=\"text-align: right;\">\n",
       "      <th></th>\n",
       "      <th>email_id</th>\n",
       "      <th>hour</th>\n",
       "      <th>user_past_purchases</th>\n",
       "      <th>clicked</th>\n",
       "    </tr>\n",
       "  </thead>\n",
       "  <tbody>\n",
       "    <tr>\n",
       "      <th>count</th>\n",
       "      <td>99950.000000</td>\n",
       "      <td>99950.000000</td>\n",
       "      <td>99950.000000</td>\n",
       "      <td>99950.00000</td>\n",
       "    </tr>\n",
       "    <tr>\n",
       "      <th>mean</th>\n",
       "      <td>498695.729065</td>\n",
       "      <td>9.059100</td>\n",
       "      <td>3.878559</td>\n",
       "      <td>0.02070</td>\n",
       "    </tr>\n",
       "    <tr>\n",
       "      <th>std</th>\n",
       "      <td>289226.115244</td>\n",
       "      <td>4.439618</td>\n",
       "      <td>3.196324</td>\n",
       "      <td>0.14238</td>\n",
       "    </tr>\n",
       "    <tr>\n",
       "      <th>min</th>\n",
       "      <td>8.000000</td>\n",
       "      <td>1.000000</td>\n",
       "      <td>0.000000</td>\n",
       "      <td>0.00000</td>\n",
       "    </tr>\n",
       "    <tr>\n",
       "      <th>25%</th>\n",
       "      <td>246721.500000</td>\n",
       "      <td>6.000000</td>\n",
       "      <td>1.000000</td>\n",
       "      <td>0.00000</td>\n",
       "    </tr>\n",
       "    <tr>\n",
       "      <th>50%</th>\n",
       "      <td>498441.500000</td>\n",
       "      <td>9.000000</td>\n",
       "      <td>3.000000</td>\n",
       "      <td>0.00000</td>\n",
       "    </tr>\n",
       "    <tr>\n",
       "      <th>75%</th>\n",
       "      <td>749936.750000</td>\n",
       "      <td>12.000000</td>\n",
       "      <td>6.000000</td>\n",
       "      <td>0.00000</td>\n",
       "    </tr>\n",
       "    <tr>\n",
       "      <th>max</th>\n",
       "      <td>999998.000000</td>\n",
       "      <td>24.000000</td>\n",
       "      <td>22.000000</td>\n",
       "      <td>1.00000</td>\n",
       "    </tr>\n",
       "  </tbody>\n",
       "</table>\n",
       "</div>"
      ],
      "text/plain": [
       "            email_id          hour  user_past_purchases      clicked\n",
       "count   99950.000000  99950.000000         99950.000000  99950.00000\n",
       "mean   498695.729065      9.059100             3.878559      0.02070\n",
       "std    289226.115244      4.439618             3.196324      0.14238\n",
       "min         8.000000      1.000000             0.000000      0.00000\n",
       "25%    246721.500000      6.000000             1.000000      0.00000\n",
       "50%    498441.500000      9.000000             3.000000      0.00000\n",
       "75%    749936.750000     12.000000             6.000000      0.00000\n",
       "max    999998.000000     24.000000            22.000000      1.00000"
      ]
     },
     "execution_count": 5,
     "metadata": {},
     "output_type": "execute_result"
    }
   ],
   "source": [
    "data.describe()"
   ]
  },
  {
   "cell_type": "code",
   "execution_count": 6,
   "id": "8ca69e76",
   "metadata": {},
   "outputs": [
    {
     "data": {
      "text/plain": [
       "count    2069.00000\n",
       "mean        6.22958\n",
       "std         3.59897\n",
       "min         0.00000\n",
       "25%         3.00000\n",
       "50%         6.00000\n",
       "75%         9.00000\n",
       "max        22.00000\n",
       "Name: user_past_purchases, dtype: float64"
      ]
     },
     "execution_count": 6,
     "metadata": {},
     "output_type": "execute_result"
    }
   ],
   "source": [
    "data[data['clicked']==1]['user_past_purchases'].describe()"
   ]
  },
  {
   "cell_type": "code",
   "execution_count": 7,
   "id": "c9e3238e",
   "metadata": {},
   "outputs": [
    {
     "data": {
      "text/plain": [
       "count    97881.000000\n",
       "mean         3.828864\n",
       "std          3.168514\n",
       "min          0.000000\n",
       "25%          1.000000\n",
       "50%          3.000000\n",
       "75%          6.000000\n",
       "max         21.000000\n",
       "Name: user_past_purchases, dtype: float64"
      ]
     },
     "execution_count": 7,
     "metadata": {},
     "output_type": "execute_result"
    }
   ],
   "source": [
    "data[data['clicked']==0]['user_past_purchases'].describe()"
   ]
  },
  {
   "cell_type": "code",
   "execution_count": 8,
   "id": "f4354d55",
   "metadata": {},
   "outputs": [],
   "source": [
    "data_categorical = data.select_dtypes(['object']).astype(\"category\")"
   ]
  },
  {
   "cell_type": "code",
   "execution_count": 9,
   "id": "90587660",
   "metadata": {},
   "outputs": [
    {
     "data": {
      "text/plain": [
       "long_email     50248\n",
       "short_email    49702\n",
       "Name: email_text, dtype: int64"
      ]
     },
     "execution_count": 9,
     "metadata": {},
     "output_type": "execute_result"
    }
   ],
   "source": [
    "data['email_text'].value_counts()"
   ]
  },
  {
   "cell_type": "code",
   "execution_count": 10,
   "id": "8ab419ff",
   "metadata": {},
   "outputs": [
    {
     "data": {
      "text/plain": [
       "generic         50178\n",
       "personalized    49772\n",
       "Name: email_version, dtype: int64"
      ]
     },
     "execution_count": 10,
     "metadata": {},
     "output_type": "execute_result"
    }
   ],
   "source": [
    "data['email_version'].value_counts()"
   ]
  },
  {
   "cell_type": "code",
   "execution_count": 11,
   "id": "412dd426",
   "metadata": {},
   "outputs": [
    {
     "data": {
      "text/plain": [
       "Saturday     14564\n",
       "Sunday       14374\n",
       "Monday       14358\n",
       "Thursday     14274\n",
       "Friday       14165\n",
       "Tuesday      14137\n",
       "Wednesday    14078\n",
       "Name: weekday, dtype: int64"
      ]
     },
     "execution_count": 11,
     "metadata": {},
     "output_type": "execute_result"
    }
   ],
   "source": [
    "data['weekday'].value_counts()"
   ]
  },
  {
   "cell_type": "code",
   "execution_count": 12,
   "id": "b9335ec5",
   "metadata": {},
   "outputs": [
    {
     "data": {
      "text/plain": [
       "US    60069\n",
       "UK    19928\n",
       "FR     9989\n",
       "ES     9964\n",
       "Name: user_country, dtype: int64"
      ]
     },
     "execution_count": 12,
     "metadata": {},
     "output_type": "execute_result"
    }
   ],
   "source": [
    "data['user_country'].value_counts()"
   ]
  },
  {
   "cell_type": "code",
   "execution_count": 13,
   "id": "5a24d7b8",
   "metadata": {},
   "outputs": [
    {
     "name": "stdout",
     "output_type": "stream",
     "text": [
      "email_text       long_email\n",
      "email_version       generic\n",
      "weekday              Friday\n",
      "user_country             ES\n",
      "dtype: object\n"
     ]
    }
   ],
   "source": [
    "print(data_categorical.apply(lambda x: x.cat.categories[0]))\n"
   ]
  },
  {
   "cell_type": "code",
   "execution_count": 14,
   "id": "dd9b42b5",
   "metadata": {},
   "outputs": [],
   "source": [
    "### Converting to Dummy Vavriables"
   ]
  },
  {
   "cell_type": "code",
   "execution_count": 15,
   "id": "528d00c5",
   "metadata": {},
   "outputs": [],
   "source": [
    "data_d = pd.get_dummies(data, drop_first=True)"
   ]
  },
  {
   "cell_type": "code",
   "execution_count": 16,
   "id": "02ff0b25",
   "metadata": {},
   "outputs": [
    {
     "data": {
      "text/html": [
       "<div>\n",
       "<style scoped>\n",
       "    .dataframe tbody tr th:only-of-type {\n",
       "        vertical-align: middle;\n",
       "    }\n",
       "\n",
       "    .dataframe tbody tr th {\n",
       "        vertical-align: top;\n",
       "    }\n",
       "\n",
       "    .dataframe thead th {\n",
       "        text-align: right;\n",
       "    }\n",
       "</style>\n",
       "<table border=\"1\" class=\"dataframe\">\n",
       "  <thead>\n",
       "    <tr style=\"text-align: right;\">\n",
       "      <th></th>\n",
       "      <th>email_id</th>\n",
       "      <th>hour</th>\n",
       "      <th>user_past_purchases</th>\n",
       "      <th>clicked</th>\n",
       "      <th>email_text_short_email</th>\n",
       "      <th>email_version_personalized</th>\n",
       "      <th>weekday_Monday</th>\n",
       "      <th>weekday_Saturday</th>\n",
       "      <th>weekday_Sunday</th>\n",
       "      <th>weekday_Thursday</th>\n",
       "      <th>weekday_Tuesday</th>\n",
       "      <th>weekday_Wednesday</th>\n",
       "      <th>user_country_FR</th>\n",
       "      <th>user_country_UK</th>\n",
       "      <th>user_country_US</th>\n",
       "    </tr>\n",
       "  </thead>\n",
       "  <tbody>\n",
       "    <tr>\n",
       "      <th>0</th>\n",
       "      <td>8</td>\n",
       "      <td>9</td>\n",
       "      <td>3</td>\n",
       "      <td>0</td>\n",
       "      <td>1</td>\n",
       "      <td>0</td>\n",
       "      <td>0</td>\n",
       "      <td>0</td>\n",
       "      <td>0</td>\n",
       "      <td>1</td>\n",
       "      <td>0</td>\n",
       "      <td>0</td>\n",
       "      <td>0</td>\n",
       "      <td>0</td>\n",
       "      <td>1</td>\n",
       "    </tr>\n",
       "    <tr>\n",
       "      <th>1</th>\n",
       "      <td>33</td>\n",
       "      <td>6</td>\n",
       "      <td>0</td>\n",
       "      <td>0</td>\n",
       "      <td>0</td>\n",
       "      <td>1</td>\n",
       "      <td>1</td>\n",
       "      <td>0</td>\n",
       "      <td>0</td>\n",
       "      <td>0</td>\n",
       "      <td>0</td>\n",
       "      <td>0</td>\n",
       "      <td>0</td>\n",
       "      <td>0</td>\n",
       "      <td>1</td>\n",
       "    </tr>\n",
       "    <tr>\n",
       "      <th>2</th>\n",
       "      <td>46</td>\n",
       "      <td>14</td>\n",
       "      <td>3</td>\n",
       "      <td>0</td>\n",
       "      <td>1</td>\n",
       "      <td>0</td>\n",
       "      <td>0</td>\n",
       "      <td>0</td>\n",
       "      <td>0</td>\n",
       "      <td>0</td>\n",
       "      <td>1</td>\n",
       "      <td>0</td>\n",
       "      <td>0</td>\n",
       "      <td>0</td>\n",
       "      <td>1</td>\n",
       "    </tr>\n",
       "    <tr>\n",
       "      <th>3</th>\n",
       "      <td>49</td>\n",
       "      <td>11</td>\n",
       "      <td>10</td>\n",
       "      <td>0</td>\n",
       "      <td>0</td>\n",
       "      <td>1</td>\n",
       "      <td>0</td>\n",
       "      <td>0</td>\n",
       "      <td>0</td>\n",
       "      <td>1</td>\n",
       "      <td>0</td>\n",
       "      <td>0</td>\n",
       "      <td>0</td>\n",
       "      <td>0</td>\n",
       "      <td>1</td>\n",
       "    </tr>\n",
       "    <tr>\n",
       "      <th>4</th>\n",
       "      <td>65</td>\n",
       "      <td>8</td>\n",
       "      <td>3</td>\n",
       "      <td>0</td>\n",
       "      <td>1</td>\n",
       "      <td>0</td>\n",
       "      <td>0</td>\n",
       "      <td>0</td>\n",
       "      <td>0</td>\n",
       "      <td>0</td>\n",
       "      <td>0</td>\n",
       "      <td>1</td>\n",
       "      <td>0</td>\n",
       "      <td>1</td>\n",
       "      <td>0</td>\n",
       "    </tr>\n",
       "    <tr>\n",
       "      <th>...</th>\n",
       "      <td>...</td>\n",
       "      <td>...</td>\n",
       "      <td>...</td>\n",
       "      <td>...</td>\n",
       "      <td>...</td>\n",
       "      <td>...</td>\n",
       "      <td>...</td>\n",
       "      <td>...</td>\n",
       "      <td>...</td>\n",
       "      <td>...</td>\n",
       "      <td>...</td>\n",
       "      <td>...</td>\n",
       "      <td>...</td>\n",
       "      <td>...</td>\n",
       "      <td>...</td>\n",
       "    </tr>\n",
       "    <tr>\n",
       "      <th>99945</th>\n",
       "      <td>999969</td>\n",
       "      <td>21</td>\n",
       "      <td>0</td>\n",
       "      <td>0</td>\n",
       "      <td>1</td>\n",
       "      <td>0</td>\n",
       "      <td>0</td>\n",
       "      <td>0</td>\n",
       "      <td>0</td>\n",
       "      <td>1</td>\n",
       "      <td>0</td>\n",
       "      <td>0</td>\n",
       "      <td>0</td>\n",
       "      <td>0</td>\n",
       "      <td>1</td>\n",
       "    </tr>\n",
       "    <tr>\n",
       "      <th>99946</th>\n",
       "      <td>999972</td>\n",
       "      <td>6</td>\n",
       "      <td>5</td>\n",
       "      <td>0</td>\n",
       "      <td>0</td>\n",
       "      <td>1</td>\n",
       "      <td>0</td>\n",
       "      <td>0</td>\n",
       "      <td>0</td>\n",
       "      <td>0</td>\n",
       "      <td>1</td>\n",
       "      <td>0</td>\n",
       "      <td>0</td>\n",
       "      <td>0</td>\n",
       "      <td>1</td>\n",
       "    </tr>\n",
       "    <tr>\n",
       "      <th>99947</th>\n",
       "      <td>999976</td>\n",
       "      <td>5</td>\n",
       "      <td>0</td>\n",
       "      <td>0</td>\n",
       "      <td>0</td>\n",
       "      <td>1</td>\n",
       "      <td>0</td>\n",
       "      <td>0</td>\n",
       "      <td>0</td>\n",
       "      <td>0</td>\n",
       "      <td>0</td>\n",
       "      <td>1</td>\n",
       "      <td>0</td>\n",
       "      <td>1</td>\n",
       "      <td>0</td>\n",
       "    </tr>\n",
       "    <tr>\n",
       "      <th>99948</th>\n",
       "      <td>999980</td>\n",
       "      <td>10</td>\n",
       "      <td>4</td>\n",
       "      <td>0</td>\n",
       "      <td>0</td>\n",
       "      <td>0</td>\n",
       "      <td>0</td>\n",
       "      <td>0</td>\n",
       "      <td>0</td>\n",
       "      <td>1</td>\n",
       "      <td>0</td>\n",
       "      <td>0</td>\n",
       "      <td>1</td>\n",
       "      <td>0</td>\n",
       "      <td>0</td>\n",
       "    </tr>\n",
       "    <tr>\n",
       "      <th>99949</th>\n",
       "      <td>999998</td>\n",
       "      <td>16</td>\n",
       "      <td>0</td>\n",
       "      <td>0</td>\n",
       "      <td>0</td>\n",
       "      <td>0</td>\n",
       "      <td>0</td>\n",
       "      <td>0</td>\n",
       "      <td>0</td>\n",
       "      <td>0</td>\n",
       "      <td>0</td>\n",
       "      <td>0</td>\n",
       "      <td>1</td>\n",
       "      <td>0</td>\n",
       "      <td>0</td>\n",
       "    </tr>\n",
       "  </tbody>\n",
       "</table>\n",
       "<p>99950 rows × 15 columns</p>\n",
       "</div>"
      ],
      "text/plain": [
       "       email_id  hour  user_past_purchases  clicked  email_text_short_email  \\\n",
       "0             8     9                    3        0                       1   \n",
       "1            33     6                    0        0                       0   \n",
       "2            46    14                    3        0                       1   \n",
       "3            49    11                   10        0                       0   \n",
       "4            65     8                    3        0                       1   \n",
       "...         ...   ...                  ...      ...                     ...   \n",
       "99945    999969    21                    0        0                       1   \n",
       "99946    999972     6                    5        0                       0   \n",
       "99947    999976     5                    0        0                       0   \n",
       "99948    999980    10                    4        0                       0   \n",
       "99949    999998    16                    0        0                       0   \n",
       "\n",
       "       email_version_personalized  weekday_Monday  weekday_Saturday  \\\n",
       "0                               0               0                 0   \n",
       "1                               1               1                 0   \n",
       "2                               0               0                 0   \n",
       "3                               1               0                 0   \n",
       "4                               0               0                 0   \n",
       "...                           ...             ...               ...   \n",
       "99945                           0               0                 0   \n",
       "99946                           1               0                 0   \n",
       "99947                           1               0                 0   \n",
       "99948                           0               0                 0   \n",
       "99949                           0               0                 0   \n",
       "\n",
       "       weekday_Sunday  weekday_Thursday  weekday_Tuesday  weekday_Wednesday  \\\n",
       "0                   0                 1                0                  0   \n",
       "1                   0                 0                0                  0   \n",
       "2                   0                 0                1                  0   \n",
       "3                   0                 1                0                  0   \n",
       "4                   0                 0                0                  1   \n",
       "...               ...               ...              ...                ...   \n",
       "99945               0                 1                0                  0   \n",
       "99946               0                 0                1                  0   \n",
       "99947               0                 0                0                  1   \n",
       "99948               0                 1                0                  0   \n",
       "99949               0                 0                0                  0   \n",
       "\n",
       "       user_country_FR  user_country_UK  user_country_US  \n",
       "0                    0                0                1  \n",
       "1                    0                0                1  \n",
       "2                    0                0                1  \n",
       "3                    0                0                1  \n",
       "4                    0                1                0  \n",
       "...                ...              ...              ...  \n",
       "99945                0                0                1  \n",
       "99946                0                0                1  \n",
       "99947                0                1                0  \n",
       "99948                1                0                0  \n",
       "99949                1                0                0  \n",
       "\n",
       "[99950 rows x 15 columns]"
      ]
     },
     "execution_count": 16,
     "metadata": {},
     "output_type": "execute_result"
    }
   ],
   "source": [
    "data_d"
   ]
  },
  {
   "cell_type": "code",
   "execution_count": 17,
   "id": "97599b01",
   "metadata": {},
   "outputs": [],
   "source": [
    "data_d['intercept'] = 1"
   ]
  },
  {
   "cell_type": "markdown",
   "id": "b0af44ea",
   "metadata": {},
   "source": [
    "## Dropping Target Variable"
   ]
  },
  {
   "cell_type": "code",
   "execution_count": 18,
   "id": "5e98b894",
   "metadata": {},
   "outputs": [],
   "source": [
    "train = data_d.drop('clicked',axis=1)"
   ]
  },
  {
   "cell_type": "markdown",
   "id": "b6e88bad",
   "metadata": {},
   "source": [
    "## Logit Function"
   ]
  },
  {
   "cell_type": "code",
   "execution_count": 19,
   "id": "efae5536",
   "metadata": {},
   "outputs": [
    {
     "name": "stdout",
     "output_type": "stream",
     "text": [
      "Optimization terminated successfully.\n",
      "         Current function value: 0.092770\n",
      "         Iterations 9\n"
     ]
    }
   ],
   "source": [
    "logit = sm.Logit(data_d['clicked'],train)\n",
    "output = logit.fit()"
   ]
  },
  {
   "cell_type": "markdown",
   "id": "d4869e33",
   "metadata": {},
   "source": [
    "## One way to view output"
   ]
  },
  {
   "cell_type": "code",
   "execution_count": 20,
   "id": "e033bc22",
   "metadata": {},
   "outputs": [
    {
     "data": {
      "text/html": [
       "<table class=\"simpletable\">\n",
       "<caption>Logit Regression Results</caption>\n",
       "<tr>\n",
       "  <th>Dep. Variable:</th>        <td>clicked</td>     <th>  No. Observations:  </th>  <td> 99950</td> \n",
       "</tr>\n",
       "<tr>\n",
       "  <th>Model:</th>                 <td>Logit</td>      <th>  Df Residuals:      </th>  <td> 99935</td> \n",
       "</tr>\n",
       "<tr>\n",
       "  <th>Method:</th>                 <td>MLE</td>       <th>  Df Model:          </th>  <td>    14</td> \n",
       "</tr>\n",
       "<tr>\n",
       "  <th>Date:</th>            <td>Wed, 02 Feb 2022</td> <th>  Pseudo R-squ.:     </th>  <td>0.07923</td>\n",
       "</tr>\n",
       "<tr>\n",
       "  <th>Time:</th>                <td>13:07:29</td>     <th>  Log-Likelihood:    </th> <td> -9272.4</td>\n",
       "</tr>\n",
       "<tr>\n",
       "  <th>converged:</th>             <td>True</td>       <th>  LL-Null:           </th> <td> -10070.</td>\n",
       "</tr>\n",
       "<tr>\n",
       "  <th>Covariance Type:</th>     <td>nonrobust</td>    <th>  LLR p-value:       </th>  <td> 0.000</td> \n",
       "</tr>\n",
       "</table>\n",
       "<table class=\"simpletable\">\n",
       "<tr>\n",
       "               <td></td>                 <th>coef</th>     <th>std err</th>      <th>z</th>      <th>P>|z|</th>  <th>[0.025</th>    <th>0.975]</th>  \n",
       "</tr>\n",
       "<tr>\n",
       "  <th>email_id</th>                   <td>-3.849e-08</td> <td> 7.78e-08</td> <td>   -0.495</td> <td> 0.621</td> <td>-1.91e-07</td> <td> 1.14e-07</td>\n",
       "</tr>\n",
       "<tr>\n",
       "  <th>hour</th>                       <td>    0.0167</td> <td>    0.005</td> <td>    3.337</td> <td> 0.001</td> <td>    0.007</td> <td>    0.027</td>\n",
       "</tr>\n",
       "<tr>\n",
       "  <th>user_past_purchases</th>        <td>    0.1878</td> <td>    0.006</td> <td>   32.801</td> <td> 0.000</td> <td>    0.177</td> <td>    0.199</td>\n",
       "</tr>\n",
       "<tr>\n",
       "  <th>email_text_short_email</th>     <td>    0.2793</td> <td>    0.045</td> <td>    6.165</td> <td> 0.000</td> <td>    0.191</td> <td>    0.368</td>\n",
       "</tr>\n",
       "<tr>\n",
       "  <th>email_version_personalized</th> <td>    0.6387</td> <td>    0.047</td> <td>   13.615</td> <td> 0.000</td> <td>    0.547</td> <td>    0.731</td>\n",
       "</tr>\n",
       "<tr>\n",
       "  <th>weekday_Monday</th>             <td>    0.5410</td> <td>    0.093</td> <td>    5.792</td> <td> 0.000</td> <td>    0.358</td> <td>    0.724</td>\n",
       "</tr>\n",
       "<tr>\n",
       "  <th>weekday_Saturday</th>           <td>    0.2829</td> <td>    0.098</td> <td>    2.893</td> <td> 0.004</td> <td>    0.091</td> <td>    0.475</td>\n",
       "</tr>\n",
       "<tr>\n",
       "  <th>weekday_Sunday</th>             <td>    0.1836</td> <td>    0.100</td> <td>    1.834</td> <td> 0.067</td> <td>   -0.013</td> <td>    0.380</td>\n",
       "</tr>\n",
       "<tr>\n",
       "  <th>weekday_Thursday</th>           <td>    0.6254</td> <td>    0.092</td> <td>    6.773</td> <td> 0.000</td> <td>    0.444</td> <td>    0.806</td>\n",
       "</tr>\n",
       "<tr>\n",
       "  <th>weekday_Tuesday</th>            <td>    0.6162</td> <td>    0.092</td> <td>    6.671</td> <td> 0.000</td> <td>    0.435</td> <td>    0.797</td>\n",
       "</tr>\n",
       "<tr>\n",
       "  <th>weekday_Wednesday</th>          <td>    0.7555</td> <td>    0.091</td> <td>    8.316</td> <td> 0.000</td> <td>    0.577</td> <td>    0.934</td>\n",
       "</tr>\n",
       "<tr>\n",
       "  <th>user_country_FR</th>            <td>   -0.0786</td> <td>    0.163</td> <td>   -0.484</td> <td> 0.629</td> <td>   -0.397</td> <td>    0.240</td>\n",
       "</tr>\n",
       "<tr>\n",
       "  <th>user_country_UK</th>            <td>    1.1553</td> <td>    0.122</td> <td>    9.465</td> <td> 0.000</td> <td>    0.916</td> <td>    1.394</td>\n",
       "</tr>\n",
       "<tr>\n",
       "  <th>user_country_US</th>            <td>    1.1414</td> <td>    0.116</td> <td>    9.842</td> <td> 0.000</td> <td>    0.914</td> <td>    1.369</td>\n",
       "</tr>\n",
       "<tr>\n",
       "  <th>intercept</th>                  <td>   -6.8809</td> <td>    0.156</td> <td>  -44.090</td> <td> 0.000</td> <td>   -7.187</td> <td>   -6.575</td>\n",
       "</tr>\n",
       "</table>"
      ],
      "text/plain": [
       "<class 'statsmodels.iolib.summary.Summary'>\n",
       "\"\"\"\n",
       "                           Logit Regression Results                           \n",
       "==============================================================================\n",
       "Dep. Variable:                clicked   No. Observations:                99950\n",
       "Model:                          Logit   Df Residuals:                    99935\n",
       "Method:                           MLE   Df Model:                           14\n",
       "Date:                Wed, 02 Feb 2022   Pseudo R-squ.:                 0.07923\n",
       "Time:                        13:07:29   Log-Likelihood:                -9272.4\n",
       "converged:                       True   LL-Null:                       -10070.\n",
       "Covariance Type:            nonrobust   LLR p-value:                     0.000\n",
       "==============================================================================================\n",
       "                                 coef    std err          z      P>|z|      [0.025      0.975]\n",
       "----------------------------------------------------------------------------------------------\n",
       "email_id                   -3.849e-08   7.78e-08     -0.495      0.621   -1.91e-07    1.14e-07\n",
       "hour                           0.0167      0.005      3.337      0.001       0.007       0.027\n",
       "user_past_purchases            0.1878      0.006     32.801      0.000       0.177       0.199\n",
       "email_text_short_email         0.2793      0.045      6.165      0.000       0.191       0.368\n",
       "email_version_personalized     0.6387      0.047     13.615      0.000       0.547       0.731\n",
       "weekday_Monday                 0.5410      0.093      5.792      0.000       0.358       0.724\n",
       "weekday_Saturday               0.2829      0.098      2.893      0.004       0.091       0.475\n",
       "weekday_Sunday                 0.1836      0.100      1.834      0.067      -0.013       0.380\n",
       "weekday_Thursday               0.6254      0.092      6.773      0.000       0.444       0.806\n",
       "weekday_Tuesday                0.6162      0.092      6.671      0.000       0.435       0.797\n",
       "weekday_Wednesday              0.7555      0.091      8.316      0.000       0.577       0.934\n",
       "user_country_FR               -0.0786      0.163     -0.484      0.629      -0.397       0.240\n",
       "user_country_UK                1.1553      0.122      9.465      0.000       0.916       1.394\n",
       "user_country_US                1.1414      0.116      9.842      0.000       0.914       1.369\n",
       "intercept                     -6.8809      0.156    -44.090      0.000      -7.187      -6.575\n",
       "==============================================================================================\n",
       "\"\"\""
      ]
     },
     "execution_count": 20,
     "metadata": {},
     "output_type": "execute_result"
    }
   ],
   "source": [
    "output.summary()"
   ]
  },
  {
   "cell_type": "code",
   "execution_count": 21,
   "id": "85caa052",
   "metadata": {},
   "outputs": [],
   "source": [
    "output_table = pd.DataFrame(dict(coefficients = output.params,SE = output.bse, z_value = output.tvalues,p_value=output.pvalues))"
   ]
  },
  {
   "cell_type": "code",
   "execution_count": 22,
   "id": "df06e4fd",
   "metadata": {},
   "outputs": [
    {
     "data": {
      "text/html": [
       "<div>\n",
       "<style scoped>\n",
       "    .dataframe tbody tr th:only-of-type {\n",
       "        vertical-align: middle;\n",
       "    }\n",
       "\n",
       "    .dataframe tbody tr th {\n",
       "        vertical-align: top;\n",
       "    }\n",
       "\n",
       "    .dataframe thead th {\n",
       "        text-align: right;\n",
       "    }\n",
       "</style>\n",
       "<table border=\"1\" class=\"dataframe\">\n",
       "  <thead>\n",
       "    <tr style=\"text-align: right;\">\n",
       "      <th></th>\n",
       "      <th>coefficients</th>\n",
       "      <th>SE</th>\n",
       "      <th>z_value</th>\n",
       "      <th>p_value</th>\n",
       "    </tr>\n",
       "  </thead>\n",
       "  <tbody>\n",
       "    <tr>\n",
       "      <th>email_id</th>\n",
       "      <td>-3.848609e-08</td>\n",
       "      <td>7.780379e-08</td>\n",
       "      <td>-0.494656</td>\n",
       "      <td>6.208432e-01</td>\n",
       "    </tr>\n",
       "    <tr>\n",
       "      <th>hour</th>\n",
       "      <td>1.670684e-02</td>\n",
       "      <td>5.005879e-03</td>\n",
       "      <td>3.337445</td>\n",
       "      <td>8.455247e-04</td>\n",
       "    </tr>\n",
       "    <tr>\n",
       "      <th>user_past_purchases</th>\n",
       "      <td>1.878107e-01</td>\n",
       "      <td>5.725787e-03</td>\n",
       "      <td>32.800855</td>\n",
       "      <td>5.725039e-236</td>\n",
       "    </tr>\n",
       "    <tr>\n",
       "      <th>email_text_short_email</th>\n",
       "      <td>2.793085e-01</td>\n",
       "      <td>4.530477e-02</td>\n",
       "      <td>6.165101</td>\n",
       "      <td>7.043829e-10</td>\n",
       "    </tr>\n",
       "    <tr>\n",
       "      <th>email_version_personalized</th>\n",
       "      <td>6.387251e-01</td>\n",
       "      <td>4.691461e-02</td>\n",
       "      <td>13.614631</td>\n",
       "      <td>3.277989e-42</td>\n",
       "    </tr>\n",
       "    <tr>\n",
       "      <th>weekday_Monday</th>\n",
       "      <td>5.410326e-01</td>\n",
       "      <td>9.341014e-02</td>\n",
       "      <td>5.792011</td>\n",
       "      <td>6.954864e-09</td>\n",
       "    </tr>\n",
       "    <tr>\n",
       "      <th>weekday_Saturday</th>\n",
       "      <td>2.828638e-01</td>\n",
       "      <td>9.777629e-02</td>\n",
       "      <td>2.892969</td>\n",
       "      <td>3.816190e-03</td>\n",
       "    </tr>\n",
       "    <tr>\n",
       "      <th>weekday_Sunday</th>\n",
       "      <td>1.836278e-01</td>\n",
       "      <td>1.001194e-01</td>\n",
       "      <td>1.834088</td>\n",
       "      <td>6.664099e-02</td>\n",
       "    </tr>\n",
       "    <tr>\n",
       "      <th>weekday_Thursday</th>\n",
       "      <td>6.254040e-01</td>\n",
       "      <td>9.233999e-02</td>\n",
       "      <td>6.772839</td>\n",
       "      <td>1.262790e-11</td>\n",
       "    </tr>\n",
       "    <tr>\n",
       "      <th>weekday_Tuesday</th>\n",
       "      <td>6.162222e-01</td>\n",
       "      <td>9.237223e-02</td>\n",
       "      <td>6.671077</td>\n",
       "      <td>2.539336e-11</td>\n",
       "    </tr>\n",
       "    <tr>\n",
       "      <th>weekday_Wednesday</th>\n",
       "      <td>7.554637e-01</td>\n",
       "      <td>9.084515e-02</td>\n",
       "      <td>8.315950</td>\n",
       "      <td>9.102053e-17</td>\n",
       "    </tr>\n",
       "    <tr>\n",
       "      <th>user_country_FR</th>\n",
       "      <td>-7.864563e-02</td>\n",
       "      <td>1.625969e-01</td>\n",
       "      <td>-0.483685</td>\n",
       "      <td>6.286097e-01</td>\n",
       "    </tr>\n",
       "    <tr>\n",
       "      <th>user_country_UK</th>\n",
       "      <td>1.155255e+00</td>\n",
       "      <td>1.220603e-01</td>\n",
       "      <td>9.464618</td>\n",
       "      <td>2.946372e-21</td>\n",
       "    </tr>\n",
       "    <tr>\n",
       "      <th>user_country_US</th>\n",
       "      <td>1.141360e+00</td>\n",
       "      <td>1.159626e-01</td>\n",
       "      <td>9.842487</td>\n",
       "      <td>7.386228e-23</td>\n",
       "    </tr>\n",
       "    <tr>\n",
       "      <th>intercept</th>\n",
       "      <td>-6.880922e+00</td>\n",
       "      <td>1.560666e-01</td>\n",
       "      <td>-44.089646</td>\n",
       "      <td>0.000000e+00</td>\n",
       "    </tr>\n",
       "  </tbody>\n",
       "</table>\n",
       "</div>"
      ],
      "text/plain": [
       "                            coefficients            SE    z_value  \\\n",
       "email_id                   -3.848609e-08  7.780379e-08  -0.494656   \n",
       "hour                        1.670684e-02  5.005879e-03   3.337445   \n",
       "user_past_purchases         1.878107e-01  5.725787e-03  32.800855   \n",
       "email_text_short_email      2.793085e-01  4.530477e-02   6.165101   \n",
       "email_version_personalized  6.387251e-01  4.691461e-02  13.614631   \n",
       "weekday_Monday              5.410326e-01  9.341014e-02   5.792011   \n",
       "weekday_Saturday            2.828638e-01  9.777629e-02   2.892969   \n",
       "weekday_Sunday              1.836278e-01  1.001194e-01   1.834088   \n",
       "weekday_Thursday            6.254040e-01  9.233999e-02   6.772839   \n",
       "weekday_Tuesday             6.162222e-01  9.237223e-02   6.671077   \n",
       "weekday_Wednesday           7.554637e-01  9.084515e-02   8.315950   \n",
       "user_country_FR            -7.864563e-02  1.625969e-01  -0.483685   \n",
       "user_country_UK             1.155255e+00  1.220603e-01   9.464618   \n",
       "user_country_US             1.141360e+00  1.159626e-01   9.842487   \n",
       "intercept                  -6.880922e+00  1.560666e-01 -44.089646   \n",
       "\n",
       "                                  p_value  \n",
       "email_id                     6.208432e-01  \n",
       "hour                         8.455247e-04  \n",
       "user_past_purchases         5.725039e-236  \n",
       "email_text_short_email       7.043829e-10  \n",
       "email_version_personalized   3.277989e-42  \n",
       "weekday_Monday               6.954864e-09  \n",
       "weekday_Saturday             3.816190e-03  \n",
       "weekday_Sunday               6.664099e-02  \n",
       "weekday_Thursday             1.262790e-11  \n",
       "weekday_Tuesday              2.539336e-11  \n",
       "weekday_Wednesday            9.102053e-17  \n",
       "user_country_FR              6.286097e-01  \n",
       "user_country_UK              2.946372e-21  \n",
       "user_country_US              7.386228e-23  \n",
       "intercept                    0.000000e+00  "
      ]
     },
     "execution_count": 22,
     "metadata": {},
     "output_type": "execute_result"
    }
   ],
   "source": [
    "output_table"
   ]
  },
  {
   "cell_type": "code",
   "execution_count": 23,
   "id": "3d813274",
   "metadata": {
    "scrolled": true
   },
   "outputs": [
    {
     "data": {
      "text/html": [
       "<div>\n",
       "<style scoped>\n",
       "    .dataframe tbody tr th:only-of-type {\n",
       "        vertical-align: middle;\n",
       "    }\n",
       "\n",
       "    .dataframe tbody tr th {\n",
       "        vertical-align: top;\n",
       "    }\n",
       "\n",
       "    .dataframe thead th {\n",
       "        text-align: right;\n",
       "    }\n",
       "</style>\n",
       "<table border=\"1\" class=\"dataframe\">\n",
       "  <thead>\n",
       "    <tr style=\"text-align: right;\">\n",
       "      <th></th>\n",
       "      <th>coefficients</th>\n",
       "      <th>SE</th>\n",
       "      <th>z_value</th>\n",
       "      <th>p_value</th>\n",
       "    </tr>\n",
       "  </thead>\n",
       "  <tbody>\n",
       "    <tr>\n",
       "      <th>user_country_UK</th>\n",
       "      <td>1.155255</td>\n",
       "      <td>0.122060</td>\n",
       "      <td>9.464618</td>\n",
       "      <td>2.946372e-21</td>\n",
       "    </tr>\n",
       "    <tr>\n",
       "      <th>user_country_US</th>\n",
       "      <td>1.141360</td>\n",
       "      <td>0.115963</td>\n",
       "      <td>9.842487</td>\n",
       "      <td>7.386228e-23</td>\n",
       "    </tr>\n",
       "    <tr>\n",
       "      <th>weekday_Wednesday</th>\n",
       "      <td>0.755464</td>\n",
       "      <td>0.090845</td>\n",
       "      <td>8.315950</td>\n",
       "      <td>9.102053e-17</td>\n",
       "    </tr>\n",
       "    <tr>\n",
       "      <th>email_version_personalized</th>\n",
       "      <td>0.638725</td>\n",
       "      <td>0.046915</td>\n",
       "      <td>13.614631</td>\n",
       "      <td>3.277989e-42</td>\n",
       "    </tr>\n",
       "    <tr>\n",
       "      <th>weekday_Thursday</th>\n",
       "      <td>0.625404</td>\n",
       "      <td>0.092340</td>\n",
       "      <td>6.772839</td>\n",
       "      <td>1.262790e-11</td>\n",
       "    </tr>\n",
       "    <tr>\n",
       "      <th>weekday_Tuesday</th>\n",
       "      <td>0.616222</td>\n",
       "      <td>0.092372</td>\n",
       "      <td>6.671077</td>\n",
       "      <td>2.539336e-11</td>\n",
       "    </tr>\n",
       "    <tr>\n",
       "      <th>weekday_Monday</th>\n",
       "      <td>0.541033</td>\n",
       "      <td>0.093410</td>\n",
       "      <td>5.792011</td>\n",
       "      <td>6.954864e-09</td>\n",
       "    </tr>\n",
       "    <tr>\n",
       "      <th>weekday_Saturday</th>\n",
       "      <td>0.282864</td>\n",
       "      <td>0.097776</td>\n",
       "      <td>2.892969</td>\n",
       "      <td>3.816190e-03</td>\n",
       "    </tr>\n",
       "    <tr>\n",
       "      <th>email_text_short_email</th>\n",
       "      <td>0.279308</td>\n",
       "      <td>0.045305</td>\n",
       "      <td>6.165101</td>\n",
       "      <td>7.043829e-10</td>\n",
       "    </tr>\n",
       "    <tr>\n",
       "      <th>user_past_purchases</th>\n",
       "      <td>0.187811</td>\n",
       "      <td>0.005726</td>\n",
       "      <td>32.800855</td>\n",
       "      <td>5.725039e-236</td>\n",
       "    </tr>\n",
       "    <tr>\n",
       "      <th>hour</th>\n",
       "      <td>0.016707</td>\n",
       "      <td>0.005006</td>\n",
       "      <td>3.337445</td>\n",
       "      <td>8.455247e-04</td>\n",
       "    </tr>\n",
       "    <tr>\n",
       "      <th>intercept</th>\n",
       "      <td>-6.880922</td>\n",
       "      <td>0.156067</td>\n",
       "      <td>-44.089646</td>\n",
       "      <td>0.000000e+00</td>\n",
       "    </tr>\n",
       "  </tbody>\n",
       "</table>\n",
       "</div>"
      ],
      "text/plain": [
       "                            coefficients        SE    z_value        p_value\n",
       "user_country_UK                 1.155255  0.122060   9.464618   2.946372e-21\n",
       "user_country_US                 1.141360  0.115963   9.842487   7.386228e-23\n",
       "weekday_Wednesday               0.755464  0.090845   8.315950   9.102053e-17\n",
       "email_version_personalized      0.638725  0.046915  13.614631   3.277989e-42\n",
       "weekday_Thursday                0.625404  0.092340   6.772839   1.262790e-11\n",
       "weekday_Tuesday                 0.616222  0.092372   6.671077   2.539336e-11\n",
       "weekday_Monday                  0.541033  0.093410   5.792011   6.954864e-09\n",
       "weekday_Saturday                0.282864  0.097776   2.892969   3.816190e-03\n",
       "email_text_short_email          0.279308  0.045305   6.165101   7.043829e-10\n",
       "user_past_purchases             0.187811  0.005726  32.800855  5.725039e-236\n",
       "hour                            0.016707  0.005006   3.337445   8.455247e-04\n",
       "intercept                      -6.880922  0.156067 -44.089646   0.000000e+00"
      ]
     },
     "execution_count": 23,
     "metadata": {},
     "output_type": "execute_result"
    }
   ],
   "source": [
    "output_table[output_table['p_value']<0.05].sort_values(by='coefficients',ascending=False)"
   ]
  },
  {
   "cell_type": "markdown",
   "id": "59a207e6",
   "metadata": {},
   "source": [
    "## Now we make a tree to assess gain more insights in the data"
   ]
  },
  {
   "cell_type": "code",
   "execution_count": 24,
   "id": "72890e51",
   "metadata": {},
   "outputs": [],
   "source": [
    "data_dummy = pd.get_dummies(data,drop_first=True)"
   ]
  },
  {
   "cell_type": "code",
   "execution_count": 25,
   "id": "9b2c474e",
   "metadata": {},
   "outputs": [],
   "source": [
    "train = data_dummy.drop('clicked',axis = 1)"
   ]
  },
  {
   "cell_type": "code",
   "execution_count": null,
   "id": "4da24e93",
   "metadata": {},
   "outputs": [],
   "source": []
  },
  {
   "cell_type": "code",
   "execution_count": 26,
   "id": "ea745dc4",
   "metadata": {},
   "outputs": [],
   "source": [
    "tree = DecisionTreeClassifier(max_depth=4,class_weight='balanced',min_impurity_decrease=0.001)"
   ]
  },
  {
   "cell_type": "markdown",
   "id": "8fa928cd",
   "metadata": {},
   "source": [
    "### What does class balanced do?"
   ]
  },
  {
   "cell_type": "code",
   "execution_count": 27,
   "id": "810cf0f5",
   "metadata": {},
   "outputs": [
    {
     "data": {
      "text/plain": [
       "DecisionTreeClassifier(class_weight='balanced', max_depth=4,\n",
       "                       min_impurity_decrease=0.001)"
      ]
     },
     "execution_count": 27,
     "metadata": {},
     "output_type": "execute_result"
    }
   ],
   "source": [
    "tree.fit(train,data_dummy['clicked'])"
   ]
  },
  {
   "cell_type": "code",
   "execution_count": 28,
   "id": "4135d78c",
   "metadata": {},
   "outputs": [
    {
     "data": {
      "text/plain": [
       "{'ccp_alpha': 0.0,\n",
       " 'class_weight': 'balanced',\n",
       " 'criterion': 'gini',\n",
       " 'max_depth': 4,\n",
       " 'max_features': None,\n",
       " 'max_leaf_nodes': None,\n",
       " 'min_impurity_decrease': 0.001,\n",
       " 'min_impurity_split': None,\n",
       " 'min_samples_leaf': 1,\n",
       " 'min_samples_split': 2,\n",
       " 'min_weight_fraction_leaf': 0.0,\n",
       " 'random_state': None,\n",
       " 'splitter': 'best'}"
      ]
     },
     "execution_count": 28,
     "metadata": {},
     "output_type": "execute_result"
    }
   ],
   "source": [
    "tree.get_params()"
   ]
  },
  {
   "cell_type": "code",
   "execution_count": 29,
   "id": "676131f5",
   "metadata": {},
   "outputs": [],
   "source": [
    "export_graphviz(tree, out_file=\"tree.dot\",feature_names=train.columns,proportion=True,rotate=True)"
   ]
  },
  {
   "cell_type": "code",
   "execution_count": 30,
   "id": "679e9135",
   "metadata": {},
   "outputs": [],
   "source": [
    "s = Source.from_file('tree.dot')"
   ]
  },
  {
   "cell_type": "code",
   "execution_count": 31,
   "id": "a67e7844",
   "metadata": {},
   "outputs": [
    {
     "data": {
      "text/plain": [
       "'tree.dot.pdf'"
      ]
     },
     "execution_count": 31,
     "metadata": {},
     "output_type": "execute_result"
    }
   ],
   "source": [
    "s.view()"
   ]
  },
  {
   "cell_type": "code",
   "execution_count": null,
   "id": "3326165c",
   "metadata": {},
   "outputs": [],
   "source": []
  }
 ],
 "metadata": {
  "kernelspec": {
   "display_name": "Python 3",
   "language": "python",
   "name": "python3"
  },
  "language_info": {
   "codemirror_mode": {
    "name": "ipython",
    "version": 3
   },
   "file_extension": ".py",
   "mimetype": "text/x-python",
   "name": "python",
   "nbconvert_exporter": "python",
   "pygments_lexer": "ipython3",
   "version": "3.8.8"
  }
 },
 "nbformat": 4,
 "nbformat_minor": 5
}
